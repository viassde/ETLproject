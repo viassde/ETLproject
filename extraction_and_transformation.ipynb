{
 "cells": [
  {
   "cell_type": "code",
   "execution_count": 1,
   "metadata": {},
   "outputs": [],
   "source": [
    "#imports\n",
    "import os\n",
    "import pandas as pd"
   ]
  },
  {
   "cell_type": "markdown",
   "metadata": {},
   "source": [
    "WORK WITH CITIES"
   ]
  },
  {
   "cell_type": "code",
   "execution_count": 2,
   "metadata": {},
   "outputs": [],
   "source": [
    "#get city names\n",
    "cities_csv_file = os.path.join('historical-hourly-weather-data/city_attributes.csv')"
   ]
  },
  {
   "cell_type": "code",
   "execution_count": 3,
   "metadata": {},
   "outputs": [],
   "source": [
    "#read file\n",
    "cities_df = pd.read_csv(cities_csv_file)"
   ]
  },
  {
   "cell_type": "code",
   "execution_count": 4,
   "metadata": {},
   "outputs": [],
   "source": [
    "#only interested in city and country names\n",
    "cities_df = cities_df[['City','Country']]"
   ]
  },
  {
   "cell_type": "code",
   "execution_count": 5,
   "metadata": {},
   "outputs": [],
   "source": [
    "#only need US cities\n",
    "cities_df = cities_df.loc[cities_df['Country'] == 'United States']"
   ]
  },
  {
   "cell_type": "code",
   "execution_count": 6,
   "metadata": {},
   "outputs": [],
   "source": [
    "#add states to these cities\n",
    "cities_df['State'] = ['Oregon', 'California', 'Washington', 'California', 'California', 'Nevada', 'Arizona', 'New Mexico', 'Colorado', 'Texas', 'Texas', 'Texas', 'Missouri', 'Minnesota', 'Missouri', 'Illinois', 'Tennessee', 'Indiana', 'Georgia', 'Michigan', 'Florida', 'North Carolina', 'Florida', 'Pennsylvania', 'Pennsylvania', 'New York', 'Massachusetts']"
   ]
  },
  {
   "cell_type": "code",
   "execution_count": 7,
   "metadata": {},
   "outputs": [],
   "source": [
    "#get codes\n",
    "#read file\n",
    "codes_xl = os.path.join('FRPP GLC United States.xlsx')\n",
    "codes_df = pd.read_excel(codes_xl, header=1, usecols='B,D,E')"
   ]
  },
  {
   "cell_type": "code",
   "execution_count": 8,
   "metadata": {},
   "outputs": [],
   "source": [
    "#get ready to merge\n",
    "cities_df['City'] = cities_df['City'].str.upper()\n",
    "cities_df['State'] = cities_df['State'].str.upper()\n",
    "cities_df = cities_df[['City', 'State']]"
   ]
  },
  {
   "cell_type": "code",
   "execution_count": 9,
   "metadata": {},
   "outputs": [],
   "source": [
    "#merge\n",
    "merged_cities = pd.merge(codes_df, cities_df, left_on=['City Name', 'State Name'], right_on=['City', 'State'])\n",
    "merged_cities = merged_cities.drop_duplicates()\n",
    "merged_cities.reset_index(inplace=True)\n",
    "\n",
    "#only need these columns\n",
    "merged_cities = merged_cities[['City Code', 'City', 'State']]"
   ]
  },
  {
   "cell_type": "markdown",
   "metadata": {},
   "source": [
    "WORKING WITH FATALITIES"
   ]
  },
  {
   "cell_type": "code",
   "execution_count": 10,
   "metadata": {},
   "outputs": [],
   "source": [
    "#get the accident data\n",
    "fatal_2016_csv = os.path.join('fatal_2016.csv')\n",
    "fatal_2015_csv = os.path.join('fatal_2015.csv')\n",
    "fatal_2015_df = pd.read_csv(fatal_2015_csv)\n",
    "fatal_2016_df = pd.read_csv(fatal_2016_csv)"
   ]
  },
  {
   "cell_type": "code",
   "execution_count": 11,
   "metadata": {},
   "outputs": [],
   "source": [
    "#get a list of the codes where accidents occurred in 2015 and 2016\n",
    "fatal_2015_codes = [x for x in fatal_2015_df['city']]\n",
    "fatal_2016_codes = [x for x in fatal_2016_df['city']]"
   ]
  },
  {
   "cell_type": "code",
   "execution_count": 12,
   "metadata": {},
   "outputs": [],
   "source": [
    "#create one list and then flatten the list of lists\n",
    "all_codes = []\n",
    "all_codes.append(fatal_2015_codes)\n",
    "all_codes.append(fatal_2016_codes)\n",
    "flat_codes = [y for x in all_codes for y in x]"
   ]
  },
  {
   "cell_type": "code",
   "execution_count": 13,
   "metadata": {},
   "outputs": [],
   "source": [
    "#remove the duplicates\n",
    "flat_codes = list(set(flat_codes))"
   ]
  },
  {
   "cell_type": "code",
   "execution_count": 14,
   "metadata": {},
   "outputs": [],
   "source": [
    "#remove the codes in merged_cities that didn't have a fatal accident occur in them\n",
    "merged_cities = merged_cities.loc[merged_cities['City Code'].isin(flat_codes)]"
   ]
  },
  {
   "cell_type": "code",
   "execution_count": 15,
   "metadata": {},
   "outputs": [],
   "source": [
    "#get list of codes\n",
    "codes_list = list(merged_cities['City Code'])"
   ]
  },
  {
   "cell_type": "code",
   "execution_count": 16,
   "metadata": {},
   "outputs": [],
   "source": [
    "#select occurrences that occurred in the cities listed above\n",
    "selected_2015 = fatal_2015_df.loc[fatal_2015_df['city'].isin(codes_list)]\n",
    "selected_2016 = fatal_2016_df.loc[fatal_2016_df['city'].isin(codes_list)]\n",
    "selected_fatal = selected_2015.append(selected_2016)"
   ]
  },
  {
   "cell_type": "code",
   "execution_count": 17,
   "metadata": {},
   "outputs": [],
   "source": [
    "#df with all traffic fatalities that occurred in cities during 2015-2016, for which we have weather data\n",
    "selected_fatal.reset_index(drop=True, inplace=True)"
   ]
  },
  {
   "cell_type": "code",
   "execution_count": 18,
   "metadata": {},
   "outputs": [],
   "source": [
    "#row zero above is for North Bend, Oregon. City codes are re-used across states, but we only have the 26 cities of interest.\n",
    "#we'll have to fix this like so:\n",
    "merged_cities['State'] = merged_cities['State'].str.title()\n",
    "trimmed_fatal = pd.merge(selected_fatal, merged_cities, left_on=['city', 'state_name'], right_on=['City Code', 'State'])\n",
    "trimmed_fatal = trimmed_fatal[['City Code', 'year_of_crash', 'month_of_crash', 'day_of_crash', 'hour_of_crash', 'atmospheric_conditions_name', 'atmospheric_conditions_1_name', 'atmospheric_conditions_2_name', 'number_of_fatalities']]"
   ]
  },
  {
   "cell_type": "code",
   "execution_count": 19,
   "metadata": {},
   "outputs": [],
   "source": [
    "#format: '10/1/2012 12:00'    \n",
    "def datetime_maker(row):\n",
    "    test_string = f\"{row['month_of_crash']}/{row['day_of_crash']}/{row['year_of_crash']} {row['hour_of_crash']}:00\"\n",
    "    return test_string"
   ]
  },
  {
   "cell_type": "code",
   "execution_count": 20,
   "metadata": {},
   "outputs": [],
   "source": [
    "# create series of datetime strings\n",
    "trimmed_fatal['crash_time'] = trimmed_fatal.apply(datetime_maker, axis=1)"
   ]
  },
  {
   "cell_type": "code",
   "execution_count": 21,
   "metadata": {},
   "outputs": [],
   "source": [
    "#select columns\n",
    "trimmed_fatal = trimmed_fatal[['City Code', 'crash_time', 'atmospheric_conditions_name', 'atmospheric_conditions_1_name','atmospheric_conditions_2_name', 'number_of_fatalities']]"
   ]
  },
  {
   "cell_type": "code",
   "execution_count": 22,
   "metadata": {},
   "outputs": [],
   "source": [
    "#comment to avoid recreation of file\n",
    "#trimmed_fatal.to_csv(path_or_buf=os.path.join('fatalities.csv'), index=False)"
   ]
  },
  {
   "cell_type": "code",
   "execution_count": 23,
   "metadata": {},
   "outputs": [],
   "source": [
    "#comment to avoid recreation of file\n",
    "merged_cities['City'] = merged_cities['City'].str.title()\n",
    "#merged_cities.to_csv(path_or_buf=os.path.join('location.csv'), index=False)"
   ]
  },
  {
   "cell_type": "markdown",
   "metadata": {},
   "source": [
    "WORKING WITH WEATHER"
   ]
  },
  {
   "cell_type": "code",
   "execution_count": 51,
   "metadata": {},
   "outputs": [],
   "source": [
    "#lists of city names and crash times that will be pulled from the weather csv files\n",
    "city_name_list = list(merged_cities['City'])\n",
    "crash_time_list = list(set(trimmed_fatal['crash_time'])) #only need unique values here..."
   ]
  },
  {
   "cell_type": "code",
   "execution_count": 52,
   "metadata": {},
   "outputs": [],
   "source": [
    "#description, temperature, humidity, pressure, wind speed\n",
    "base_path = os.path.join('historical-hourly-weather-data/')\n",
    "#these lines are set up to ensure we keep the format: '01/01/2015 12:00'\n",
    "my_dateparser = lambda x: pd.datetime.strptime(x, \"%Y-%m-%d %H:%M:%S\")"
   ]
  },
  {
   "cell_type": "code",
   "execution_count": 53,
   "metadata": {},
   "outputs": [],
   "source": [
    "#get the weather data into dataframes\n",
    "hums_df = pd.read_csv(filepath_or_buffer=(base_path + 'humidity.csv'), parse_dates=['datetime'], date_parser = my_dateparser)\n",
    "descs_df = pd.read_csv(filepath_or_buffer=(base_path + 'weather_description.csv'), parse_dates=['datetime'], date_parser = my_dateparser)\n",
    "temps_df = pd.read_csv(filepath_or_buffer=(base_path + 'temperature.csv'), parse_dates=['datetime'], date_parser = my_dateparser)\n",
    "press_df = pd.read_csv(filepath_or_buffer=(base_path + 'pressure.csv'), parse_dates=['datetime'], date_parser = my_dateparser)\n",
    "wind_df = pd.read_csv(filepath_or_buffer=(base_path + 'wind_speed.csv'), parse_dates=['datetime'], date_parser = my_dateparser)"
   ]
  },
  {
   "cell_type": "code",
   "execution_count": 54,
   "metadata": {},
   "outputs": [],
   "source": [
    "#need to format the datetime column\n",
    "def string_maker(date_time_object):\n",
    "    test_string = date_time_object.datetime.strftime(\"%m/%d/%Y %H:%M\")\n",
    "    return test_string"
   ]
  },
  {
   "cell_type": "code",
   "execution_count": 55,
   "metadata": {},
   "outputs": [],
   "source": [
    "#apply the function to format the dates\n",
    "hums_df['datetime'] = hums_df.apply(string_maker, axis=1)\n",
    "descs_df['datetime'] = descs_df.apply(string_maker, axis=1)\n",
    "temps_df['datetime'] = temps_df.apply(string_maker, axis=1)\n",
    "press_df['datetime'] = press_df.apply(string_maker, axis=1)\n",
    "wind_df['datetime'] = wind_df.apply(string_maker, axis=1)"
   ]
  },
  {
   "cell_type": "code",
   "execution_count": 58,
   "metadata": {},
   "outputs": [],
   "source": [
    "#filter out the crash times we have\n",
    "hums_df = hums_df.loc[hums_df['datetime'].isin(crash_time_list)]\n",
    "descs_df = descs_df.loc[descs_df['datetime'].isin(crash_time_list)]\n",
    "temps_df = temps_df.loc[temps_df['datetime'].isin(crash_time_list)]\n",
    "press_df = press_df.loc[press_df['datetime'].isin(crash_time_list)]\n",
    "wind_df = wind_df.loc[wind_df['datetime'].isin(crash_time_list)]\n"
   ]
  },
  {
   "cell_type": "code",
   "execution_count": 59,
   "metadata": {},
   "outputs": [
    {
     "data": {
      "text/html": [
       "<div>\n",
       "<style scoped>\n",
       "    .dataframe tbody tr th:only-of-type {\n",
       "        vertical-align: middle;\n",
       "    }\n",
       "\n",
       "    .dataframe tbody tr th {\n",
       "        vertical-align: top;\n",
       "    }\n",
       "\n",
       "    .dataframe thead th {\n",
       "        text-align: right;\n",
       "    }\n",
       "</style>\n",
       "<table border=\"1\" class=\"dataframe\">\n",
       "  <thead>\n",
       "    <tr style=\"text-align: right;\">\n",
       "      <th></th>\n",
       "      <th>datetime</th>\n",
       "      <th>Vancouver</th>\n",
       "      <th>Portland</th>\n",
       "      <th>San Francisco</th>\n",
       "      <th>Seattle</th>\n",
       "      <th>Los Angeles</th>\n",
       "      <th>San Diego</th>\n",
       "      <th>Las Vegas</th>\n",
       "      <th>Phoenix</th>\n",
       "      <th>Albuquerque</th>\n",
       "      <th>...</th>\n",
       "      <th>Philadelphia</th>\n",
       "      <th>New York</th>\n",
       "      <th>Montreal</th>\n",
       "      <th>Boston</th>\n",
       "      <th>Beersheba</th>\n",
       "      <th>Tel Aviv District</th>\n",
       "      <th>Eilat</th>\n",
       "      <th>Haifa</th>\n",
       "      <th>Nahariyya</th>\n",
       "      <th>Jerusalem</th>\n",
       "    </tr>\n",
       "  </thead>\n",
       "  <tbody>\n",
       "    <tr>\n",
       "      <td>26496</td>\n",
       "      <td>10/10/2015 12:00</td>\n",
       "      <td>3.0</td>\n",
       "      <td>2.0</td>\n",
       "      <td>3.0</td>\n",
       "      <td>5.0</td>\n",
       "      <td>1.0</td>\n",
       "      <td>2.0</td>\n",
       "      <td>1.0</td>\n",
       "      <td>0.0</td>\n",
       "      <td>1.0</td>\n",
       "      <td>...</td>\n",
       "      <td>1.0</td>\n",
       "      <td>2.0</td>\n",
       "      <td>3.0</td>\n",
       "      <td>3.0</td>\n",
       "      <td>1.0</td>\n",
       "      <td>7.0</td>\n",
       "      <td>7.0</td>\n",
       "      <td>4.0</td>\n",
       "      <td>4.0</td>\n",
       "      <td>6.0</td>\n",
       "    </tr>\n",
       "    <tr>\n",
       "      <td>26501</td>\n",
       "      <td>10/10/2015 17:00</td>\n",
       "      <td>8.0</td>\n",
       "      <td>6.0</td>\n",
       "      <td>3.0</td>\n",
       "      <td>2.0</td>\n",
       "      <td>1.0</td>\n",
       "      <td>2.0</td>\n",
       "      <td>1.0</td>\n",
       "      <td>1.0</td>\n",
       "      <td>1.0</td>\n",
       "      <td>...</td>\n",
       "      <td>1.0</td>\n",
       "      <td>2.0</td>\n",
       "      <td>3.0</td>\n",
       "      <td>8.0</td>\n",
       "      <td>2.0</td>\n",
       "      <td>5.0</td>\n",
       "      <td>8.0</td>\n",
       "      <td>5.0</td>\n",
       "      <td>5.0</td>\n",
       "      <td>3.0</td>\n",
       "    </tr>\n",
       "    <tr>\n",
       "      <td>26503</td>\n",
       "      <td>10/10/2015 19:00</td>\n",
       "      <td>4.0</td>\n",
       "      <td>5.0</td>\n",
       "      <td>5.0</td>\n",
       "      <td>7.0</td>\n",
       "      <td>1.0</td>\n",
       "      <td>1.0</td>\n",
       "      <td>3.0</td>\n",
       "      <td>4.0</td>\n",
       "      <td>2.0</td>\n",
       "      <td>...</td>\n",
       "      <td>1.0</td>\n",
       "      <td>2.0</td>\n",
       "      <td>5.0</td>\n",
       "      <td>6.0</td>\n",
       "      <td>2.0</td>\n",
       "      <td>6.0</td>\n",
       "      <td>5.0</td>\n",
       "      <td>4.0</td>\n",
       "      <td>4.0</td>\n",
       "      <td>3.0</td>\n",
       "    </tr>\n",
       "    <tr>\n",
       "      <td>26506</td>\n",
       "      <td>10/10/2015 22:00</td>\n",
       "      <td>9.0</td>\n",
       "      <td>9.0</td>\n",
       "      <td>7.0</td>\n",
       "      <td>12.0</td>\n",
       "      <td>6.0</td>\n",
       "      <td>2.0</td>\n",
       "      <td>4.0</td>\n",
       "      <td>3.0</td>\n",
       "      <td>2.0</td>\n",
       "      <td>...</td>\n",
       "      <td>1.0</td>\n",
       "      <td>2.0</td>\n",
       "      <td>6.0</td>\n",
       "      <td>7.0</td>\n",
       "      <td>2.0</td>\n",
       "      <td>1.0</td>\n",
       "      <td>2.0</td>\n",
       "      <td>4.0</td>\n",
       "      <td>4.0</td>\n",
       "      <td>1.0</td>\n",
       "    </tr>\n",
       "    <tr>\n",
       "      <td>26507</td>\n",
       "      <td>10/10/2015 23:00</td>\n",
       "      <td>6.0</td>\n",
       "      <td>3.0</td>\n",
       "      <td>8.0</td>\n",
       "      <td>6.0</td>\n",
       "      <td>4.0</td>\n",
       "      <td>5.0</td>\n",
       "      <td>5.0</td>\n",
       "      <td>2.0</td>\n",
       "      <td>3.0</td>\n",
       "      <td>...</td>\n",
       "      <td>1.0</td>\n",
       "      <td>2.0</td>\n",
       "      <td>6.0</td>\n",
       "      <td>6.0</td>\n",
       "      <td>1.0</td>\n",
       "      <td>1.0</td>\n",
       "      <td>2.0</td>\n",
       "      <td>5.0</td>\n",
       "      <td>5.0</td>\n",
       "      <td>1.0</td>\n",
       "    </tr>\n",
       "    <tr>\n",
       "      <td>...</td>\n",
       "      <td>...</td>\n",
       "      <td>...</td>\n",
       "      <td>...</td>\n",
       "      <td>...</td>\n",
       "      <td>...</td>\n",
       "      <td>...</td>\n",
       "      <td>...</td>\n",
       "      <td>...</td>\n",
       "      <td>...</td>\n",
       "      <td>...</td>\n",
       "      <td>...</td>\n",
       "      <td>...</td>\n",
       "      <td>...</td>\n",
       "      <td>...</td>\n",
       "      <td>...</td>\n",
       "      <td>...</td>\n",
       "      <td>...</td>\n",
       "      <td>...</td>\n",
       "      <td>...</td>\n",
       "      <td>...</td>\n",
       "      <td>...</td>\n",
       "    </tr>\n",
       "    <tr>\n",
       "      <td>37249</td>\n",
       "      <td>12/31/2016 13:00</td>\n",
       "      <td>1.0</td>\n",
       "      <td>1.0</td>\n",
       "      <td>1.0</td>\n",
       "      <td>2.0</td>\n",
       "      <td>1.0</td>\n",
       "      <td>1.0</td>\n",
       "      <td>0.0</td>\n",
       "      <td>3.0</td>\n",
       "      <td>1.0</td>\n",
       "      <td>...</td>\n",
       "      <td>2.0</td>\n",
       "      <td>4.0</td>\n",
       "      <td>1.0</td>\n",
       "      <td>5.0</td>\n",
       "      <td>4.0</td>\n",
       "      <td>6.0</td>\n",
       "      <td>4.0</td>\n",
       "      <td>2.0</td>\n",
       "      <td>2.0</td>\n",
       "      <td>6.0</td>\n",
       "    </tr>\n",
       "    <tr>\n",
       "      <td>37252</td>\n",
       "      <td>12/31/2016 16:00</td>\n",
       "      <td>3.0</td>\n",
       "      <td>0.0</td>\n",
       "      <td>3.0</td>\n",
       "      <td>3.0</td>\n",
       "      <td>1.0</td>\n",
       "      <td>2.0</td>\n",
       "      <td>1.0</td>\n",
       "      <td>2.0</td>\n",
       "      <td>2.0</td>\n",
       "      <td>...</td>\n",
       "      <td>3.0</td>\n",
       "      <td>3.0</td>\n",
       "      <td>4.0</td>\n",
       "      <td>4.0</td>\n",
       "      <td>1.0</td>\n",
       "      <td>1.0</td>\n",
       "      <td>3.0</td>\n",
       "      <td>1.0</td>\n",
       "      <td>1.0</td>\n",
       "      <td>1.0</td>\n",
       "    </tr>\n",
       "    <tr>\n",
       "      <td>37254</td>\n",
       "      <td>12/31/2016 18:00</td>\n",
       "      <td>3.0</td>\n",
       "      <td>0.0</td>\n",
       "      <td>5.0</td>\n",
       "      <td>4.0</td>\n",
       "      <td>3.0</td>\n",
       "      <td>3.0</td>\n",
       "      <td>1.0</td>\n",
       "      <td>5.0</td>\n",
       "      <td>3.0</td>\n",
       "      <td>...</td>\n",
       "      <td>3.0</td>\n",
       "      <td>6.0</td>\n",
       "      <td>4.0</td>\n",
       "      <td>5.0</td>\n",
       "      <td>1.0</td>\n",
       "      <td>4.0</td>\n",
       "      <td>3.0</td>\n",
       "      <td>2.0</td>\n",
       "      <td>2.0</td>\n",
       "      <td>3.0</td>\n",
       "    </tr>\n",
       "    <tr>\n",
       "      <td>37257</td>\n",
       "      <td>12/31/2016 21:00</td>\n",
       "      <td>4.0</td>\n",
       "      <td>2.0</td>\n",
       "      <td>4.0</td>\n",
       "      <td>3.0</td>\n",
       "      <td>4.0</td>\n",
       "      <td>3.0</td>\n",
       "      <td>1.0</td>\n",
       "      <td>3.0</td>\n",
       "      <td>3.0</td>\n",
       "      <td>...</td>\n",
       "      <td>4.0</td>\n",
       "      <td>7.0</td>\n",
       "      <td>8.0</td>\n",
       "      <td>5.0</td>\n",
       "      <td>1.0</td>\n",
       "      <td>1.0</td>\n",
       "      <td>2.0</td>\n",
       "      <td>3.0</td>\n",
       "      <td>3.0</td>\n",
       "      <td>1.0</td>\n",
       "    </tr>\n",
       "    <tr>\n",
       "      <td>37258</td>\n",
       "      <td>12/31/2016 22:00</td>\n",
       "      <td>5.0</td>\n",
       "      <td>3.0</td>\n",
       "      <td>3.0</td>\n",
       "      <td>4.0</td>\n",
       "      <td>1.0</td>\n",
       "      <td>3.0</td>\n",
       "      <td>1.0</td>\n",
       "      <td>5.0</td>\n",
       "      <td>3.0</td>\n",
       "      <td>...</td>\n",
       "      <td>4.0</td>\n",
       "      <td>4.0</td>\n",
       "      <td>4.0</td>\n",
       "      <td>3.0</td>\n",
       "      <td>1.0</td>\n",
       "      <td>1.0</td>\n",
       "      <td>2.0</td>\n",
       "      <td>1.0</td>\n",
       "      <td>1.0</td>\n",
       "      <td>1.0</td>\n",
       "    </tr>\n",
       "  </tbody>\n",
       "</table>\n",
       "<p>493 rows × 37 columns</p>\n",
       "</div>"
      ],
      "text/plain": [
       "               datetime  Vancouver  Portland  San Francisco  Seattle  \\\n",
       "26496  10/10/2015 12:00        3.0       2.0            3.0      5.0   \n",
       "26501  10/10/2015 17:00        8.0       6.0            3.0      2.0   \n",
       "26503  10/10/2015 19:00        4.0       5.0            5.0      7.0   \n",
       "26506  10/10/2015 22:00        9.0       9.0            7.0     12.0   \n",
       "26507  10/10/2015 23:00        6.0       3.0            8.0      6.0   \n",
       "...                 ...        ...       ...            ...      ...   \n",
       "37249  12/31/2016 13:00        1.0       1.0            1.0      2.0   \n",
       "37252  12/31/2016 16:00        3.0       0.0            3.0      3.0   \n",
       "37254  12/31/2016 18:00        3.0       0.0            5.0      4.0   \n",
       "37257  12/31/2016 21:00        4.0       2.0            4.0      3.0   \n",
       "37258  12/31/2016 22:00        5.0       3.0            3.0      4.0   \n",
       "\n",
       "       Los Angeles  San Diego  Las Vegas  Phoenix  Albuquerque  ...  \\\n",
       "26496          1.0        2.0        1.0      0.0          1.0  ...   \n",
       "26501          1.0        2.0        1.0      1.0          1.0  ...   \n",
       "26503          1.0        1.0        3.0      4.0          2.0  ...   \n",
       "26506          6.0        2.0        4.0      3.0          2.0  ...   \n",
       "26507          4.0        5.0        5.0      2.0          3.0  ...   \n",
       "...            ...        ...        ...      ...          ...  ...   \n",
       "37249          1.0        1.0        0.0      3.0          1.0  ...   \n",
       "37252          1.0        2.0        1.0      2.0          2.0  ...   \n",
       "37254          3.0        3.0        1.0      5.0          3.0  ...   \n",
       "37257          4.0        3.0        1.0      3.0          3.0  ...   \n",
       "37258          1.0        3.0        1.0      5.0          3.0  ...   \n",
       "\n",
       "       Philadelphia  New York  Montreal  Boston  Beersheba  Tel Aviv District  \\\n",
       "26496           1.0       2.0       3.0     3.0        1.0                7.0   \n",
       "26501           1.0       2.0       3.0     8.0        2.0                5.0   \n",
       "26503           1.0       2.0       5.0     6.0        2.0                6.0   \n",
       "26506           1.0       2.0       6.0     7.0        2.0                1.0   \n",
       "26507           1.0       2.0       6.0     6.0        1.0                1.0   \n",
       "...             ...       ...       ...     ...        ...                ...   \n",
       "37249           2.0       4.0       1.0     5.0        4.0                6.0   \n",
       "37252           3.0       3.0       4.0     4.0        1.0                1.0   \n",
       "37254           3.0       6.0       4.0     5.0        1.0                4.0   \n",
       "37257           4.0       7.0       8.0     5.0        1.0                1.0   \n",
       "37258           4.0       4.0       4.0     3.0        1.0                1.0   \n",
       "\n",
       "       Eilat  Haifa  Nahariyya  Jerusalem  \n",
       "26496    7.0    4.0        4.0        6.0  \n",
       "26501    8.0    5.0        5.0        3.0  \n",
       "26503    5.0    4.0        4.0        3.0  \n",
       "26506    2.0    4.0        4.0        1.0  \n",
       "26507    2.0    5.0        5.0        1.0  \n",
       "...      ...    ...        ...        ...  \n",
       "37249    4.0    2.0        2.0        6.0  \n",
       "37252    3.0    1.0        1.0        1.0  \n",
       "37254    3.0    2.0        2.0        3.0  \n",
       "37257    2.0    3.0        3.0        1.0  \n",
       "37258    2.0    1.0        1.0        1.0  \n",
       "\n",
       "[493 rows x 37 columns]"
      ]
     },
     "execution_count": 59,
     "metadata": {},
     "output_type": "execute_result"
    }
   ],
   "source": []
  },
  {
   "cell_type": "code",
   "execution_count": null,
   "metadata": {},
   "outputs": [],
   "source": []
  }
 ],
 "metadata": {
  "kernelspec": {
   "display_name": "Python [conda env:PandasLearn] *",
   "language": "python",
   "name": "conda-env-PandasLearn-py"
  },
  "language_info": {
   "codemirror_mode": {
    "name": "ipython",
    "version": 3
   },
   "file_extension": ".py",
   "mimetype": "text/x-python",
   "name": "python",
   "nbconvert_exporter": "python",
   "pygments_lexer": "ipython3",
   "version": "3.7.4"
  }
 },
 "nbformat": 4,
 "nbformat_minor": 2
}
