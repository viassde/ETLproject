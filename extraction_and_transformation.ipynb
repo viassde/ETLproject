{
 "cells": [
  {
   "cell_type": "code",
   "execution_count": 1,
   "metadata": {},
   "outputs": [],
   "source": [
    "#imports\n",
    "import os\n",
    "import pandas as pd"
   ]
  },
  {
   "cell_type": "code",
   "execution_count": 2,
   "metadata": {},
   "outputs": [],
   "source": [
    "#get city names\n",
    "cities_csv_file = os.path.join('historical-hourly-weather-data/city_attributes.csv')"
   ]
  },
  {
   "cell_type": "code",
   "execution_count": 3,
   "metadata": {},
   "outputs": [],
   "source": [
    "#read file\n",
    "cities_df = pd.read_csv(cities_csv_file)"
   ]
  },
  {
   "cell_type": "code",
   "execution_count": 4,
   "metadata": {},
   "outputs": [],
   "source": [
    "#only interested in city and country names\n",
    "cities_df = cities_df[['City','Country']]"
   ]
  },
  {
   "cell_type": "code",
   "execution_count": 5,
   "metadata": {},
   "outputs": [],
   "source": [
    "#only need US cities\n",
    "cities_df = cities_df.loc[cities_df['Country'] == 'United States']"
   ]
  },
  {
   "cell_type": "code",
   "execution_count": 6,
   "metadata": {},
   "outputs": [],
   "source": [
    "#add states to these cities\n",
    "cities_df['State'] = ['Oregon', 'California', 'Washington', 'California', 'California', 'Nevada', 'Arizona', 'New Mexico', 'Colorado', 'Texas', 'Texas', 'Texas', 'Missouri', 'Minnesota', 'Missouri', 'Illinois', 'Tennessee', 'Indiana', 'Georgia', 'Michigan', 'Florida', 'North Carolina', 'Florida', 'Pennsylvania', 'Pennsylvania', 'New York', 'Massachusetts']"
   ]
  },
  {
   "cell_type": "code",
   "execution_count": 7,
   "metadata": {},
   "outputs": [],
   "source": [
    "#get codes\n",
    "#read file\n",
    "codes_xl = os.path.join('FRPP GLC United States.xlsx')\n",
    "codes_df = pd.read_excel(codes_xl, header=1, usecols='B,D,E')"
   ]
  },
  {
   "cell_type": "code",
   "execution_count": 8,
   "metadata": {},
   "outputs": [],
   "source": [
    "#get ready to merge\n",
    "cities_df['City'] = cities_df['City'].str.upper()\n",
    "cities_df['State'] = cities_df['State'].str.upper()\n",
    "cities_df = cities_df[['City', 'State']]"
   ]
  },
  {
   "cell_type": "code",
   "execution_count": 9,
   "metadata": {},
   "outputs": [],
   "source": [
    "#merge\n",
    "merged_cities = pd.merge(codes_df, cities_df, left_on=['City Name', 'State Name'], right_on=['City', 'State'])\n",
    "merged_cities = merged_cities.drop_duplicates()\n",
    "merged_cities.reset_index(inplace=True)\n",
    "\n",
    "#only need these columns\n",
    "merged_cities = merged_cities[['City Code', 'City', 'State']]"
   ]
  },
  {
   "cell_type": "code",
   "execution_count": 10,
   "metadata": {},
   "outputs": [],
   "source": [
    "#get the accident data\n",
    "fatal_2016_csv = os.path.join('fatal_2016.csv')\n",
    "fatal_2015_csv = os.path.join('fatal_2015.csv')\n",
    "fatal_2015_df = pd.read_csv(fatal_2015_csv)\n",
    "fatal_2016_df = pd.read_csv(fatal_2016_csv)"
   ]
  },
  {
   "cell_type": "code",
   "execution_count": 11,
   "metadata": {},
   "outputs": [],
   "source": [
    "#get a list of the codes where accidents occurred in 2015 and 2016\n",
    "fatal_2015_codes = [x for x in fatal_2015_df['city']]\n",
    "fatal_2016_codes = [x for x in fatal_2016_df['city']]"
   ]
  },
  {
   "cell_type": "code",
   "execution_count": 12,
   "metadata": {},
   "outputs": [],
   "source": [
    "#create one list and then flatten the list of lists\n",
    "all_codes = []\n",
    "all_codes.append(fatal_2015_codes)\n",
    "all_codes.append(fatal_2016_codes)\n",
    "flat_codes = [y for x in all_codes for y in x]"
   ]
  },
  {
   "cell_type": "code",
   "execution_count": 13,
   "metadata": {},
   "outputs": [],
   "source": [
    "#remove the duplicates\n",
    "flat_codes = list(set(flat_codes))"
   ]
  },
  {
   "cell_type": "code",
   "execution_count": 14,
   "metadata": {},
   "outputs": [],
   "source": [
    "#remove the codes in merged_cities that didn't have a fatal accident occur in them\n",
    "merged_cities = merged_cities.loc[merged_cities['City Code'].isin(flat_codes)]"
   ]
  },
  {
   "cell_type": "code",
   "execution_count": 15,
   "metadata": {},
   "outputs": [],
   "source": [
    "#get list of codes\n",
    "codes_list = list(merged_cities['City Code'])"
   ]
  },
  {
   "cell_type": "code",
   "execution_count": 16,
   "metadata": {},
   "outputs": [],
   "source": [
    "#select occurrences that occurred in the cities listed above\n",
    "selected_2015 = fatal_2015_df.loc[fatal_2015_df['city'].isin(codes_list)]\n",
    "selected_2016 = fatal_2016_df.loc[fatal_2016_df['city'].isin(codes_list)]\n",
    "selected_fatal = selected_2015.append(selected_2016)"
   ]
  },
  {
   "cell_type": "code",
   "execution_count": 17,
   "metadata": {},
   "outputs": [],
   "source": [
    "#df with all traffic fatalities that occurred in cities during 2015-2016, for which we have weather data\n",
    "selected_fatal.reset_index(drop=True, inplace=True)"
   ]
  },
  {
   "cell_type": "code",
   "execution_count": 18,
   "metadata": {},
   "outputs": [],
   "source": [
    "#row zero above is for North Bend, Oregon. City codes are re-used across states, but we only have the 26 cities of interest.\n",
    "#we'll have to fix this like so:\n",
    "merged_cities['State'] = merged_cities['State'].str.title()\n",
    "trimmed_fatal = pd.merge(selected_fatal, merged_cities, left_on=['city', 'state_name'], right_on=['City Code', 'State'])\n",
    "trimmed_fatal = trimmed_fatal[['City Code', 'year_of_crash', 'month_of_crash', 'day_of_crash', 'hour_of_crash', 'atmospheric_conditions_name', 'atmospheric_conditions_1_name', 'atmospheric_conditions_2_name', 'number_of_fatalities']]"
   ]
  },
  {
   "cell_type": "code",
   "execution_count": 19,
   "metadata": {},
   "outputs": [],
   "source": [
    "#format: '10/1/2012 12:00'    \n",
    "def datetime_maker(row):\n",
    "    test_string = f\"{row['month_of_crash']}/{row['day_of_crash']}/{row['year_of_crash']} {row['hour_of_crash']}:00\"\n",
    "    return test_string"
   ]
  },
  {
   "cell_type": "code",
   "execution_count": 20,
   "metadata": {},
   "outputs": [],
   "source": [
    "# create series of datetime strings\n",
    "trimmed_fatal['crash_time'] = trimmed_fatal.apply(datetime_maker, axis=1)"
   ]
  },
  {
   "cell_type": "code",
   "execution_count": 21,
   "metadata": {},
   "outputs": [],
   "source": [
    "#select columns\n",
    "trimmed_fatal = trimmed_fatal[['City Code', 'crash_time', 'atmospheric_conditions_name', 'atmospheric_conditions_1_name','atmospheric_conditions_2_name', 'number_of_fatalities']]"
   ]
  },
  {
   "cell_type": "code",
   "execution_count": 22,
   "metadata": {},
   "outputs": [],
   "source": [
    "#comment to avoid recreation of file\n",
    "#trimmed_fatal.to_csv(path_or_buf=os.path.join('fatalities.csv'), index=False)"
   ]
  },
  {
   "cell_type": "code",
   "execution_count": 23,
   "metadata": {},
   "outputs": [],
   "source": [
    "#comment to avoid recreation of file\n",
    "merged_cities['City'] = merged_cities['City'].str.title()\n",
    "#merged_cities.to_csv(path_or_buf=os.path.join('location.csv'), index=False)"
   ]
  },
  {
   "cell_type": "code",
   "execution_count": null,
   "metadata": {},
   "outputs": [],
   "source": []
  }
 ],
 "metadata": {
  "kernelspec": {
   "display_name": "Python [conda env:PandasLearn] *",
   "language": "python",
   "name": "conda-env-PandasLearn-py"
  },
  "language_info": {
   "codemirror_mode": {
    "name": "ipython",
    "version": 3
   },
   "file_extension": ".py",
   "mimetype": "text/x-python",
   "name": "python",
   "nbconvert_exporter": "python",
   "pygments_lexer": "ipython3",
   "version": "3.7.4"
  }
 },
 "nbformat": 4,
 "nbformat_minor": 2
}
